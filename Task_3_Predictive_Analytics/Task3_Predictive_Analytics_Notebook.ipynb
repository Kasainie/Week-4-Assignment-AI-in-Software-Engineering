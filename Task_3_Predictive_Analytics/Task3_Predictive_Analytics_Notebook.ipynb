{
 "cells": [
  {
   "cell_type": "markdown",
   "id": "ab70c4fb",
   "metadata": {},
   "source": [
    "# Task 3: Predictive Analytics for Resource Allocation\n",
    "This notebook reproduces preprocessing, labeling (low/medium/high), training a Random Forest, and evaluation."
   ]
  },
  {
   "cell_type": "code",
   "execution_count": null,
   "id": "a30b028e",
   "metadata": {},
   "outputs": [],
   "source": [
    "import pandas as pd\n",
    "import numpy as np\n",
    "from sklearn.datasets import load_breast_cancer\n",
    "from sklearn.model_selection import train_test_split\n",
    "from sklearn.ensemble import RandomForestClassifier\n",
    "from sklearn.metrics import accuracy_score, f1_score, classification_report\n",
    "\n",
    "# Load dataset\n",
    "data = load_breast_cancer()\n",
    "X = pd.DataFrame(data.data, columns=data.feature_names)\n",
    "y_original = pd.Series(data.target)\n",
    "\n",
    "# Create risk score and priority labels\n",
    "risk_score = (X['mean radius'] * 0.7 + X['mean texture'] * 0.3)\n",
    "priority_labels = pd.qcut(risk_score, q=3, labels=['low','medium','high'])\n",
    "\n",
    "# Assemble dataframe\n",
    "df = X.copy()\n",
    "df['original_target'] = y_original\n",
    "df['risk_score'] = risk_score\n",
    "df['priority'] = priority_labels\n",
    "\n",
    "label_map = {'low':0, 'medium':1, 'high':2}\n",
    "y = df['priority'].map(label_map)\n",
    "\n",
    "# Train/test split\n",
    "X_train, X_test, y_train, y_test = train_test_split(X, y, stratify=y, test_size=0.25, random_state=42)\n",
    "\n",
    "# Train Random Forest\n",
    "clf = RandomForestClassifier(n_estimators=200, random_state=42)\n",
    "clf.fit(X_train, y_train)\n",
    "\n",
    "# Predict and evaluate\n",
    "y_pred = clf.predict(X_test)\n",
    "acc = accuracy_score(y_test, y_pred)\n",
    "f1_macro = f1_score(y_test, y_pred, average='macro')\n",
    "print('Accuracy:', acc)\n",
    "print('F1 (macro):', f1_macro)\n",
    "print('\\nClassification report:\\n', classification_report(y_test, y_pred, target_names=['low','medium','high']))"
   ]
  },
  {
   "cell_type": "markdown",
   "id": "c8dc1827",
   "metadata": {},
   "source": [
    "**Saved processed CSV:** `/mnt/data/processed_breast_cancer_priority.csv`\n",
    "\n",
    "**Notebook generated on:** 2025-10-26T17:38:33.157273Z"
   ]
  }
 ],
 "metadata": {
  "kernelspec": {
   "display_name": ".venv (3.13.7)",
   "language": "python",
   "name": "python3"
  },
  "language_info": {
   "name": "python",
   "version": "3.13.7"
  }
 },
 "nbformat": 4,
 "nbformat_minor": 5
}
